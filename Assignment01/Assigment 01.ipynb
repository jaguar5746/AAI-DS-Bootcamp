{
 "cells": [
  {
   "cell_type": "code",
   "execution_count": 1,
   "id": "9223d7f1",
   "metadata": {},
   "outputs": [
    {
     "name": "stdout",
     "output_type": "stream",
     "text": [
      "Pandas Version: 1.4.2\n"
     ]
    }
   ],
   "source": [
    "#importing nupy\n",
    "import numpy as np\n",
    "import pandas as pd\n",
    "print(\"Pandas Version:\", pd.__version__)"
   ]
  },
  {
   "cell_type": "code",
   "execution_count": 2,
   "id": "2b963b86",
   "metadata": {},
   "outputs": [],
   "source": [
    "CustDataFile = \"Credit Card Data.xlsx\""
   ]
  },
  {
   "cell_type": "code",
   "execution_count": 3,
   "id": "b0855388",
   "metadata": {},
   "outputs": [
    {
     "data": {
      "text/plain": [
       "No          100\n",
       "Customer    100\n",
       "Age         100\n",
       "City        100\n",
       "Product     100\n",
       "Limit       100\n",
       "Company     100\n",
       "Segment     100\n",
       "dtype: int64"
      ]
     },
     "execution_count": 3,
     "metadata": {},
     "output_type": "execute_result"
    }
   ],
   "source": [
    "#Load Credit Card Data.xlsx file (\"Customer Detail worksheet) into 'cc_custdetail_df' dataframe\n",
    "cc_custdetail_df = pd.read_excel(CustDataFile,sheet_name=0,engine='openpyxl')\n",
    "#retrun cc_custdetail_df dataframe field counts with values\n",
    "cc_custdetail_df.count()\n"
   ]
  },
  {
   "cell_type": "code",
   "execution_count": 4,
   "id": "8736c444",
   "metadata": {},
   "outputs": [
    {
     "name": "stdout",
     "output_type": "stream",
     "text": [
      "<class 'pandas.core.frame.DataFrame'>\n",
      "RangeIndex: 100 entries, 0 to 99\n",
      "Data columns (total 8 columns):\n",
      " #   Column    Non-Null Count  Dtype \n",
      "---  ------    --------------  ----- \n",
      " 0   No        100 non-null    int64 \n",
      " 1   Customer  100 non-null    object\n",
      " 2   Age       100 non-null    int64 \n",
      " 3   City      100 non-null    object\n",
      " 4   Product   100 non-null    object\n",
      " 5   Limit     100 non-null    int64 \n",
      " 6   Company   100 non-null    object\n",
      " 7   Segment   100 non-null    object\n",
      "dtypes: int64(3), object(5)\n",
      "memory usage: 6.4+ KB\n"
     ]
    }
   ],
   "source": [
    "#Get info on cc_custdetail_df datafram with record count and data types for each column\n",
    "cc_custdetail_df.info()"
   ]
  },
  {
   "cell_type": "code",
   "execution_count": 5,
   "id": "ccff9b9e",
   "metadata": {},
   "outputs": [
    {
     "name": "stdout",
     "output_type": "stream",
     "text": [
      "   No Customer  Age       City   Product    Limit Company        Segment\n",
      "0   1       A1   47  BANGALORE      Gold  1500000      C1  Self Employed\n",
      "1   2       A2   56   CALCUTTA    Silver   300000      C2   Salaried_MNC\n",
      "2   3       A3   30     COCHIN  Platimum   540000      C3   Salaried_Pvt\n",
      "3   4       A4   22     BOMBAY  Platimum   840084      C4           Govt\n",
      "4   5       A5   59  BANGALORE  Platimum   420084      C5  Normal Salary\n"
     ]
    }
   ],
   "source": [
    "#display some cc_custdetail_df dataframe data with headers\n",
    "print(cc_custdetail_df.head())"
   ]
  },
  {
   "cell_type": "code",
   "execution_count": 6,
   "id": "18faefb5",
   "metadata": {},
   "outputs": [
    {
     "data": {
      "text/plain": [
       "No          0\n",
       "Customer    0\n",
       "Age         0\n",
       "City        0\n",
       "Product     0\n",
       "Limit       0\n",
       "Company     0\n",
       "Segment     0\n",
       "dtype: int64"
      ]
     },
     "execution_count": 6,
     "metadata": {},
     "output_type": "execute_result"
    }
   ],
   "source": [
    "#find records with missing values in cc_custdetail_df\n",
    "cc_custdetail_df.isnull().sum()"
   ]
  },
  {
   "cell_type": "code",
   "execution_count": 7,
   "id": "46da1eab",
   "metadata": {},
   "outputs": [],
   "source": [
    "#Load Credit Card Data.xlsx file (\"Spend worksheet) into 'cc_custdDpend_df' dataframe\n",
    "cc_custspend_df = pd.read_excel(CustDataFile,sheet_name=1,parse_dates=True,engine='openpyxl')"
   ]
  },
  {
   "cell_type": "code",
   "execution_count": 8,
   "id": "bc64f66a",
   "metadata": {},
   "outputs": [
    {
     "name": "stdout",
     "output_type": "stream",
     "text": [
      "<class 'pandas.core.frame.DataFrame'>\n",
      "RangeIndex: 1500 entries, 0 to 1499\n",
      "Data columns (total 5 columns):\n",
      " #   Column    Non-Null Count  Dtype         \n",
      "---  ------    --------------  -----         \n",
      " 0   Sl No:    1500 non-null   int64         \n",
      " 1   Customer  1500 non-null   object        \n",
      " 2   Month     1500 non-null   datetime64[ns]\n",
      " 3   Type      1500 non-null   object        \n",
      " 4   Amount    1500 non-null   float64       \n",
      "dtypes: datetime64[ns](1), float64(1), int64(1), object(2)\n",
      "memory usage: 58.7+ KB\n"
     ]
    }
   ],
   "source": [
    "#Get info on cc_custspend_df datafram with record count and data types for each column\n",
    "cc_custspend_df.info()"
   ]
  },
  {
   "cell_type": "code",
   "execution_count": 9,
   "id": "c427db5e",
   "metadata": {},
   "outputs": [
    {
     "name": "stdout",
     "output_type": "stream",
     "text": [
      "   Sl No: Customer      Month       Type         Amount\n",
      "0       1       A1 2004-01-12  JEWELLERY  344054.980813\n",
      "1       2       A1 2004-01-03      PETRO     935.495203\n",
      "2       3       A1 2004-01-15    CLOTHES    8687.895474\n",
      "3       4       A1 2004-01-25       FOOD     341.159711\n",
      "4       5       A1 2005-01-17     CAMERA    3406.639477\n"
     ]
    }
   ],
   "source": [
    "#display some cc_custspend_df dataframe data with headers\n",
    "print(cc_custspend_df.head())"
   ]
  },
  {
   "cell_type": "code",
   "execution_count": 10,
   "id": "1ff53ac5",
   "metadata": {},
   "outputs": [
    {
     "data": {
      "text/plain": [
       "Sl No:      0\n",
       "Customer    0\n",
       "Month       0\n",
       "Type        0\n",
       "Amount      0\n",
       "dtype: int64"
      ]
     },
     "execution_count": 10,
     "metadata": {},
     "output_type": "execute_result"
    }
   ],
   "source": [
    "#find records with missing values in cc_custspend_df\n",
    "cc_custspend_df.isnull().sum()"
   ]
  },
  {
   "cell_type": "code",
   "execution_count": 11,
   "id": "84854e49",
   "metadata": {},
   "outputs": [],
   "source": [
    "#Load Credit Card Data.xlsx file (\"Repayment worksheet) into 'cc_custrepayment_df' dataframe\n",
    "cc_custrepayment_df = pd.read_excel(CustDataFile,parse_dates=True,sheet_name=2,engine='openpyxl')\n"
   ]
  },
  {
   "cell_type": "code",
   "execution_count": 12,
   "id": "8b223dcf",
   "metadata": {},
   "outputs": [
    {
     "name": "stdout",
     "output_type": "stream",
     "text": [
      "<class 'pandas.core.frame.DataFrame'>\n",
      "RangeIndex: 807 entries, 0 to 806\n",
      "Data columns (total 4 columns):\n",
      " #   Column    Non-Null Count  Dtype         \n",
      "---  ------    --------------  -----         \n",
      " 0   SL No:    807 non-null    int64         \n",
      " 1   Customer  807 non-null    object        \n",
      " 2   Month     803 non-null    datetime64[ns]\n",
      " 3   Amount    807 non-null    float64       \n",
      "dtypes: datetime64[ns](1), float64(1), int64(1), object(1)\n",
      "memory usage: 25.3+ KB\n"
     ]
    }
   ],
   "source": [
    "#Get info on cc_custrepayment_df datafram with record count and data types for each column\n",
    "cc_custrepayment_df.info()"
   ]
  },
  {
   "cell_type": "code",
   "execution_count": 13,
   "id": "80601a3e",
   "metadata": {},
   "outputs": [
    {
     "name": "stdout",
     "output_type": "stream",
     "text": [
      "   SL No: Customer      Month        Amount\n",
      "0       1       A1 2006-05-15  2.308473e+05\n",
      "1       2       A1 2005-08-27  1.835124e+03\n",
      "2       3       A1 2004-03-07  4.858701e+03\n",
      "3       4       A1 2005-03-01  1.360527e+06\n",
      "4       5       A1 2004-02-14  1.902322e+05\n"
     ]
    }
   ],
   "source": [
    "#display some cc_custrepayment_df dataframe data with headers\n",
    "print(cc_custrepayment_df.head())"
   ]
  },
  {
   "cell_type": "code",
   "execution_count": 14,
   "id": "58c469f4",
   "metadata": {},
   "outputs": [
    {
     "data": {
      "text/plain": [
       "SL No:      0\n",
       "Customer    0\n",
       "Month       4\n",
       "Amount      0\n",
       "dtype: int64"
      ]
     },
     "execution_count": 14,
     "metadata": {},
     "output_type": "execute_result"
    }
   ],
   "source": [
    "#find records with missing values in cc_custspend_df\n",
    "cc_custrepayment_df.isnull().sum()"
   ]
  },
  {
   "cell_type": "code",
   "execution_count": 15,
   "id": "94b49d2b",
   "metadata": {},
   "outputs": [
    {
     "data": {
      "text/html": [
       "<div>\n",
       "<style scoped>\n",
       "    .dataframe tbody tr th:only-of-type {\n",
       "        vertical-align: middle;\n",
       "    }\n",
       "\n",
       "    .dataframe tbody tr th {\n",
       "        vertical-align: top;\n",
       "    }\n",
       "\n",
       "    .dataframe thead th {\n",
       "        text-align: right;\n",
       "    }\n",
       "</style>\n",
       "<table border=\"1\" class=\"dataframe\">\n",
       "  <thead>\n",
       "    <tr style=\"text-align: right;\">\n",
       "      <th></th>\n",
       "      <th>No</th>\n",
       "      <th>Customer</th>\n",
       "      <th>Age</th>\n",
       "      <th>City</th>\n",
       "      <th>Product</th>\n",
       "      <th>Limit</th>\n",
       "      <th>Company</th>\n",
       "      <th>Segment</th>\n",
       "    </tr>\n",
       "  </thead>\n",
       "  <tbody>\n",
       "    <tr>\n",
       "      <th>46</th>\n",
       "      <td>47</td>\n",
       "      <td>A47</td>\n",
       "      <td>16</td>\n",
       "      <td>CHENNAI</td>\n",
       "      <td>Platimum</td>\n",
       "      <td>1380000</td>\n",
       "      <td>C9</td>\n",
       "      <td>Normal Salary</td>\n",
       "    </tr>\n",
       "    <tr>\n",
       "      <th>69</th>\n",
       "      <td>70</td>\n",
       "      <td>A70</td>\n",
       "      <td>16</td>\n",
       "      <td>BOMBAY</td>\n",
       "      <td>Platimum</td>\n",
       "      <td>420000</td>\n",
       "      <td>C32</td>\n",
       "      <td>Self Employed</td>\n",
       "    </tr>\n",
       "    <tr>\n",
       "      <th>93</th>\n",
       "      <td>94</td>\n",
       "      <td>A94</td>\n",
       "      <td>14</td>\n",
       "      <td>COCHIN</td>\n",
       "      <td>Gold</td>\n",
       "      <td>500000</td>\n",
       "      <td>C17</td>\n",
       "      <td>Govt</td>\n",
       "    </tr>\n",
       "  </tbody>\n",
       "</table>\n",
       "</div>"
      ],
      "text/plain": [
       "    No Customer  Age     City   Product    Limit Company        Segment\n",
       "46  47      A47   16  CHENNAI  Platimum  1380000      C9  Normal Salary\n",
       "69  70      A70   16   BOMBAY  Platimum   420000     C32  Self Employed\n",
       "93  94      A94   14   COCHIN      Gold   500000     C17           Govt"
      ]
     },
     "execution_count": 15,
     "metadata": {},
     "output_type": "execute_result"
    }
   ],
   "source": [
    "#Query record where age<18 in the cc_custdetail_df dataframe\n",
    "cc_custdetail_df.query(\"Age<18\")"
   ]
  },
  {
   "cell_type": "code",
   "execution_count": 16,
   "id": "c135a29c",
   "metadata": {},
   "outputs": [
    {
     "data": {
      "text/html": [
       "<div>\n",
       "<style scoped>\n",
       "    .dataframe tbody tr th:only-of-type {\n",
       "        vertical-align: middle;\n",
       "    }\n",
       "\n",
       "    .dataframe tbody tr th {\n",
       "        vertical-align: top;\n",
       "    }\n",
       "\n",
       "    .dataframe thead th {\n",
       "        text-align: right;\n",
       "    }\n",
       "</style>\n",
       "<table border=\"1\" class=\"dataframe\">\n",
       "  <thead>\n",
       "    <tr style=\"text-align: right;\">\n",
       "      <th></th>\n",
       "      <th>No</th>\n",
       "      <th>Customer</th>\n",
       "      <th>Age</th>\n",
       "      <th>City</th>\n",
       "      <th>Product</th>\n",
       "      <th>Limit</th>\n",
       "      <th>Company</th>\n",
       "      <th>Segment</th>\n",
       "    </tr>\n",
       "  </thead>\n",
       "  <tbody>\n",
       "  </tbody>\n",
       "</table>\n",
       "</div>"
      ],
      "text/plain": [
       "Empty DataFrame\n",
       "Columns: [No, Customer, Age, City, Product, Limit, Company, Segment]\n",
       "Index: []"
      ]
     },
     "execution_count": 16,
     "metadata": {},
     "output_type": "execute_result"
    }
   ],
   "source": [
    "# Applying the condition (age of credit card customer can't be less than 18. In case age is less than 18, \n",
    "#replace it with mean of age.)\n",
    "cc_custdetail_df[\"Age\"] = np.where(cc_custdetail_df[\"Age\"] < 18, 18,cc_custdetail_df[\"Age\"])\n",
    "cc_custdetail_df.query(\"Age<18\")"
   ]
  },
  {
   "cell_type": "code",
   "execution_count": 23,
   "id": "8c33b1fe",
   "metadata": {},
   "outputs": [
    {
     "data": {
      "text/html": [
       "<div>\n",
       "<style scoped>\n",
       "    .dataframe tbody tr th:only-of-type {\n",
       "        vertical-align: middle;\n",
       "    }\n",
       "\n",
       "    .dataframe tbody tr th {\n",
       "        vertical-align: top;\n",
       "    }\n",
       "\n",
       "    .dataframe thead th {\n",
       "        text-align: right;\n",
       "    }\n",
       "</style>\n",
       "<table border=\"1\" class=\"dataframe\">\n",
       "  <thead>\n",
       "    <tr style=\"text-align: right;\">\n",
       "      <th></th>\n",
       "      <th>No</th>\n",
       "      <th>Customer</th>\n",
       "      <th>Age</th>\n",
       "      <th>City</th>\n",
       "      <th>Product</th>\n",
       "      <th>Limit</th>\n",
       "      <th>Company</th>\n",
       "      <th>Segment</th>\n",
       "    </tr>\n",
       "  </thead>\n",
       "  <tbody>\n",
       "  </tbody>\n",
       "</table>\n",
       "</div>"
      ],
      "text/plain": [
       "Empty DataFrame\n",
       "Columns: [No, Customer, Age, City, Product, Limit, Company, Segment]\n",
       "Index: []"
      ]
     },
     "execution_count": 23,
     "metadata": {},
     "output_type": "execute_result"
    }
   ],
   "source": [
    "#Check again and query record where age<18 in the cc_custdetail_df dataframe, Now result should be zero records\n",
    "cc_custdetail_df.query(\"Age<18\")"
   ]
  },
  {
   "cell_type": "code",
   "execution_count": 17,
   "id": "5cf20ef0",
   "metadata": {},
   "outputs": [
    {
     "data": {
      "text/html": [
       "<div>\n",
       "<style scoped>\n",
       "    .dataframe tbody tr th:only-of-type {\n",
       "        vertical-align: middle;\n",
       "    }\n",
       "\n",
       "    .dataframe tbody tr th {\n",
       "        vertical-align: top;\n",
       "    }\n",
       "\n",
       "    .dataframe thead th {\n",
       "        text-align: right;\n",
       "    }\n",
       "</style>\n",
       "<table border=\"1\" class=\"dataframe\">\n",
       "  <thead>\n",
       "    <tr style=\"text-align: right;\">\n",
       "      <th></th>\n",
       "      <th>No</th>\n",
       "      <th>Customer</th>\n",
       "      <th>Age</th>\n",
       "      <th>City</th>\n",
       "      <th>Product</th>\n",
       "      <th>Limit</th>\n",
       "      <th>Company</th>\n",
       "      <th>Segment</th>\n",
       "    </tr>\n",
       "  </thead>\n",
       "  <tbody>\n",
       "    <tr>\n",
       "      <th>0</th>\n",
       "      <td>1</td>\n",
       "      <td>A1</td>\n",
       "      <td>47</td>\n",
       "      <td>BANGALORE</td>\n",
       "      <td>Gold</td>\n",
       "      <td>1500000</td>\n",
       "      <td>C1</td>\n",
       "      <td>Self Employed</td>\n",
       "    </tr>\n",
       "    <tr>\n",
       "      <th>1</th>\n",
       "      <td>2</td>\n",
       "      <td>A2</td>\n",
       "      <td>56</td>\n",
       "      <td>CALCUTTA</td>\n",
       "      <td>Silver</td>\n",
       "      <td>300000</td>\n",
       "      <td>C2</td>\n",
       "      <td>Salaried_MNC</td>\n",
       "    </tr>\n",
       "    <tr>\n",
       "      <th>2</th>\n",
       "      <td>3</td>\n",
       "      <td>A3</td>\n",
       "      <td>30</td>\n",
       "      <td>COCHIN</td>\n",
       "      <td>Platimum</td>\n",
       "      <td>540000</td>\n",
       "      <td>C3</td>\n",
       "      <td>Salaried_Pvt</td>\n",
       "    </tr>\n",
       "    <tr>\n",
       "      <th>3</th>\n",
       "      <td>4</td>\n",
       "      <td>A4</td>\n",
       "      <td>22</td>\n",
       "      <td>BOMBAY</td>\n",
       "      <td>Platimum</td>\n",
       "      <td>840084</td>\n",
       "      <td>C4</td>\n",
       "      <td>Govt</td>\n",
       "    </tr>\n",
       "    <tr>\n",
       "      <th>4</th>\n",
       "      <td>5</td>\n",
       "      <td>A5</td>\n",
       "      <td>59</td>\n",
       "      <td>BANGALORE</td>\n",
       "      <td>Platimum</td>\n",
       "      <td>420084</td>\n",
       "      <td>C5</td>\n",
       "      <td>Normal Salary</td>\n",
       "    </tr>\n",
       "    <tr>\n",
       "      <th>...</th>\n",
       "      <td>...</td>\n",
       "      <td>...</td>\n",
       "      <td>...</td>\n",
       "      <td>...</td>\n",
       "      <td>...</td>\n",
       "      <td>...</td>\n",
       "      <td>...</td>\n",
       "      <td>...</td>\n",
       "    </tr>\n",
       "    <tr>\n",
       "      <th>95</th>\n",
       "      <td>96</td>\n",
       "      <td>A96</td>\n",
       "      <td>54</td>\n",
       "      <td>CHENNAI</td>\n",
       "      <td>Silver</td>\n",
       "      <td>100000</td>\n",
       "      <td>C19</td>\n",
       "      <td>Salaried_Pvt</td>\n",
       "    </tr>\n",
       "    <tr>\n",
       "      <th>96</th>\n",
       "      <td>97</td>\n",
       "      <td>A97</td>\n",
       "      <td>75</td>\n",
       "      <td>TRIVANDRUM</td>\n",
       "      <td>Platimum</td>\n",
       "      <td>30000</td>\n",
       "      <td>C20</td>\n",
       "      <td>Govt</td>\n",
       "    </tr>\n",
       "    <tr>\n",
       "      <th>97</th>\n",
       "      <td>98</td>\n",
       "      <td>A98</td>\n",
       "      <td>29</td>\n",
       "      <td>CALCUTTA</td>\n",
       "      <td>Platimum</td>\n",
       "      <td>30000</td>\n",
       "      <td>C21</td>\n",
       "      <td>Normal Salary</td>\n",
       "    </tr>\n",
       "    <tr>\n",
       "      <th>98</th>\n",
       "      <td>99</td>\n",
       "      <td>A99</td>\n",
       "      <td>59</td>\n",
       "      <td>CALCUTTA</td>\n",
       "      <td>Platimum</td>\n",
       "      <td>120000</td>\n",
       "      <td>C22</td>\n",
       "      <td>Self Employed</td>\n",
       "    </tr>\n",
       "    <tr>\n",
       "      <th>99</th>\n",
       "      <td>100</td>\n",
       "      <td>A100</td>\n",
       "      <td>55</td>\n",
       "      <td>COCHIN</td>\n",
       "      <td>Silver</td>\n",
       "      <td>100000</td>\n",
       "      <td>C5</td>\n",
       "      <td>Salaried_MNC</td>\n",
       "    </tr>\n",
       "  </tbody>\n",
       "</table>\n",
       "<p>100 rows × 8 columns</p>\n",
       "</div>"
      ],
      "text/plain": [
       "     No Customer  Age        City   Product    Limit Company        Segment\n",
       "0     1       A1   47   BANGALORE      Gold  1500000      C1  Self Employed\n",
       "1     2       A2   56    CALCUTTA    Silver   300000      C2   Salaried_MNC\n",
       "2     3       A3   30      COCHIN  Platimum   540000      C3   Salaried_Pvt\n",
       "3     4       A4   22      BOMBAY  Platimum   840084      C4           Govt\n",
       "4     5       A5   59   BANGALORE  Platimum   420084      C5  Normal Salary\n",
       "..  ...      ...  ...         ...       ...      ...     ...            ...\n",
       "95   96      A96   54     CHENNAI    Silver   100000     C19   Salaried_Pvt\n",
       "96   97      A97   75  TRIVANDRUM  Platimum    30000     C20           Govt\n",
       "97   98      A98   29    CALCUTTA  Platimum    30000     C21  Normal Salary\n",
       "98   99      A99   59    CALCUTTA  Platimum   120000     C22  Self Employed\n",
       "99  100     A100   55      COCHIN    Silver   100000      C5   Salaried_MNC\n",
       "\n",
       "[100 rows x 8 columns]"
      ]
     },
     "execution_count": 17,
     "metadata": {},
     "output_type": "execute_result"
    }
   ],
   "source": [
    "cc_custdetail_df.head(100)"
   ]
  },
  {
   "cell_type": "code",
   "execution_count": 18,
   "id": "e78e2b12",
   "metadata": {},
   "outputs": [
    {
     "data": {
      "text/plain": [
       "array(['A1', 'A2', 'A3', 'A4', 'A5', 'A6', 'A7', 'A8', 'A9', 'A10', 'A11',\n",
       "       'A12', 'A13', 'A14', 'A15', 'A16', 'A17', 'A18', 'A19', 'A20',\n",
       "       'A21', 'A22', 'A23', 'A24', 'A25', 'A26', 'A27', 'A28', 'A29',\n",
       "       'A30', 'A31', 'A32', 'A33', 'A34', 'A35', 'A36', 'A37', 'A38',\n",
       "       'A39', 'A40', 'A41', 'A42', 'A43', 'A44', 'A45', 'A46', 'A47',\n",
       "       'A48', 'A49', 'A50', 'A51', 'A52', 'A53', 'A54', 'A55', 'A56',\n",
       "       'A57', 'A58', 'A59', 'A60', 'A61', 'A62', 'A63', 'A64', 'A65',\n",
       "       'A66', 'A67', 'A68', 'A69', 'A70', 'A71', 'A72', 'A73', 'A74',\n",
       "       'A75', 'A76', 'A77', 'A78', 'A79', 'A80', 'A81', 'A82', 'A83',\n",
       "       'A84', 'A85', 'A86', 'A87', 'A88', 'A89', 'A90', 'A91', 'A92',\n",
       "       'A93', 'A94', 'A95', 'A96', 'A97', 'A98', 'A99', 'A100'],\n",
       "      dtype=object)"
      ]
     },
     "execution_count": 18,
     "metadata": {},
     "output_type": "execute_result"
    }
   ],
   "source": [
    "# How many unique customers are there? (unique Customer values)\n",
    "cc_custdetail_df[\"Customer\"].unique()\n"
   ]
  },
  {
   "cell_type": "code",
   "execution_count": 19,
   "id": "84651832",
   "metadata": {},
   "outputs": [
    {
     "name": "stdout",
     "output_type": "stream",
     "text": [
      "Number of unique customer:  100\n"
     ]
    }
   ],
   "source": [
    "# unique Customer count\n",
    "uniqueCustomer = cc_custdetail_df.Customer.nunique(dropna = True)\n",
    "print (\"Number of unique customer: \",uniqueCustomer)"
   ]
  },
  {
   "cell_type": "code",
   "execution_count": 20,
   "id": "cda2ad12",
   "metadata": {},
   "outputs": [
    {
     "data": {
      "text/plain": [
       "array(['JEWELLERY', 'PETRO', 'CLOTHES', 'FOOD', 'CAMERA', 'SANDALS',\n",
       "       'CAR', 'BIKE', 'AUTO', 'SHOPPING', 'AIR TICKET', 'BUS TICKET',\n",
       "       'TRAIN TICKET', 'RENTAL', 'MOVIE TICKET'], dtype=object)"
      ]
     },
     "execution_count": 20,
     "metadata": {},
     "output_type": "execute_result"
    }
   ],
   "source": [
    "# How many spend categories are there? (unique spend categories values)\n",
    "cc_custspend_df[\"Type\"].unique()"
   ]
  },
  {
   "cell_type": "code",
   "execution_count": 39,
   "id": "364718c7",
   "metadata": {},
   "outputs": [
    {
     "name": "stdout",
     "output_type": "stream",
     "text": [
      "Number of unique spend categories:  15\n"
     ]
    }
   ],
   "source": [
    "# unique spend categories count\n",
    "uniqueSpendCategories = cc_custspend_df.Type.nunique(dropna = True)\n",
    "print (\"Number of unique spend categories: \",uniqueSpendCategories)"
   ]
  },
  {
   "cell_type": "code",
   "execution_count": 40,
   "id": "e636b1da",
   "metadata": {},
   "outputs": [
    {
     "data": {
      "text/plain": [
       "Amount  mean    409143.467018\n",
       "dtype: float64"
      ]
     },
     "execution_count": 40,
     "metadata": {},
     "output_type": "execute_result"
    }
   ],
   "source": [
    "#Which category has the highest average spend? \n",
    "cc_custspend_df.groupby(\"Type\").agg({\"Amount\":[\"mean\"]}).agg('max')"
   ]
  },
  {
   "cell_type": "code",
   "execution_count": 146,
   "id": "16aae529",
   "metadata": {},
   "outputs": [
    {
     "data": {
      "text/html": [
       "<div>\n",
       "<style scoped>\n",
       "    .dataframe tbody tr th:only-of-type {\n",
       "        vertical-align: middle;\n",
       "    }\n",
       "\n",
       "    .dataframe tbody tr th {\n",
       "        vertical-align: top;\n",
       "    }\n",
       "\n",
       "    .dataframe thead tr th {\n",
       "        text-align: left;\n",
       "    }\n",
       "\n",
       "    .dataframe thead tr:last-of-type th {\n",
       "        text-align: right;\n",
       "    }\n",
       "</style>\n",
       "<table border=\"1\" class=\"dataframe\">\n",
       "  <thead>\n",
       "    <tr>\n",
       "      <th></th>\n",
       "      <th></th>\n",
       "      <th>Amount</th>\n",
       "    </tr>\n",
       "    <tr>\n",
       "      <th></th>\n",
       "      <th></th>\n",
       "      <th>mean</th>\n",
       "    </tr>\n",
       "    <tr>\n",
       "      <th>Type</th>\n",
       "      <th>SpendMonth</th>\n",
       "      <th></th>\n",
       "    </tr>\n",
       "  </thead>\n",
       "  <tbody>\n",
       "    <tr>\n",
       "      <th rowspan=\"5\" valign=\"top\">AIR TICKET</th>\n",
       "      <th>1</th>\n",
       "      <td>272151.763201</td>\n",
       "    </tr>\n",
       "    <tr>\n",
       "      <th>2</th>\n",
       "      <td>226079.391680</td>\n",
       "    </tr>\n",
       "    <tr>\n",
       "      <th>3</th>\n",
       "      <td>286005.084277</td>\n",
       "    </tr>\n",
       "    <tr>\n",
       "      <th>4</th>\n",
       "      <td>255372.019226</td>\n",
       "    </tr>\n",
       "    <tr>\n",
       "      <th>5</th>\n",
       "      <td>265359.442496</td>\n",
       "    </tr>\n",
       "    <tr>\n",
       "      <th>...</th>\n",
       "      <th>...</th>\n",
       "      <td>...</td>\n",
       "    </tr>\n",
       "    <tr>\n",
       "      <th rowspan=\"5\" valign=\"top\">TRAIN TICKET</th>\n",
       "      <th>8</th>\n",
       "      <td>1510.007970</td>\n",
       "    </tr>\n",
       "    <tr>\n",
       "      <th>9</th>\n",
       "      <td>1323.507079</td>\n",
       "    </tr>\n",
       "    <tr>\n",
       "      <th>10</th>\n",
       "      <td>419.176356</td>\n",
       "    </tr>\n",
       "    <tr>\n",
       "      <th>11</th>\n",
       "      <td>1672.829017</td>\n",
       "    </tr>\n",
       "    <tr>\n",
       "      <th>12</th>\n",
       "      <td>720.263901</td>\n",
       "    </tr>\n",
       "  </tbody>\n",
       "</table>\n",
       "<p>150 rows × 1 columns</p>\n",
       "</div>"
      ],
      "text/plain": [
       "                                Amount\n",
       "                                  mean\n",
       "Type         SpendMonth               \n",
       "AIR TICKET   1           272151.763201\n",
       "             2           226079.391680\n",
       "             3           286005.084277\n",
       "             4           255372.019226\n",
       "             5           265359.442496\n",
       "...                                ...\n",
       "TRAIN TICKET 8             1510.007970\n",
       "             9             1323.507079\n",
       "             10             419.176356\n",
       "             11            1672.829017\n",
       "             12             720.263901\n",
       "\n",
       "[150 rows x 1 columns]"
      ]
     },
     "execution_count": 146,
     "metadata": {},
     "output_type": "execute_result"
    }
   ],
   "source": [
    "#What is the average monthly spent by product categories?\n",
    "cc_custspend_df[\"SpendMonth\"] = cc_custspend_df[\"Month\"].dt.month\n",
    "cc_custspend_df.groupby([\"Type\",\"SpendMonth\"]).agg({\"Amount\":[\"mean\"]})"
   ]
  },
  {
   "cell_type": "code",
   "execution_count": 43,
   "id": "87a3c00a",
   "metadata": {},
   "outputs": [
    {
     "data": {
      "text/html": [
       "<div>\n",
       "<style scoped>\n",
       "    .dataframe tbody tr th:only-of-type {\n",
       "        vertical-align: middle;\n",
       "    }\n",
       "\n",
       "    .dataframe tbody tr th {\n",
       "        vertical-align: top;\n",
       "    }\n",
       "\n",
       "    .dataframe thead th {\n",
       "        text-align: right;\n",
       "    }\n",
       "</style>\n",
       "<table border=\"1\" class=\"dataframe\">\n",
       "  <thead>\n",
       "    <tr style=\"text-align: right;\">\n",
       "      <th></th>\n",
       "      <th>No</th>\n",
       "      <th>Customer</th>\n",
       "      <th>Age</th>\n",
       "      <th>City</th>\n",
       "      <th>Product</th>\n",
       "      <th>Limit</th>\n",
       "      <th>Company</th>\n",
       "      <th>Segment</th>\n",
       "      <th>Sl No:</th>\n",
       "      <th>Month</th>\n",
       "      <th>Type</th>\n",
       "      <th>Amount</th>\n",
       "      <th>SpendMonth</th>\n",
       "    </tr>\n",
       "  </thead>\n",
       "  <tbody>\n",
       "    <tr>\n",
       "      <th>218</th>\n",
       "      <td>13</td>\n",
       "      <td>A13</td>\n",
       "      <td>38</td>\n",
       "      <td>BANGALORE</td>\n",
       "      <td>Gold</td>\n",
       "      <td>500000</td>\n",
       "      <td>C13</td>\n",
       "      <td>Salaried_MNC</td>\n",
       "      <td>283</td>\n",
       "      <td>2006-11-03</td>\n",
       "      <td>BIKE</td>\n",
       "      <td>462425.553331</td>\n",
       "      <td>11</td>\n",
       "    </tr>\n",
       "    <tr>\n",
       "      <th>286</th>\n",
       "      <td>15</td>\n",
       "      <td>A15</td>\n",
       "      <td>41</td>\n",
       "      <td>CALCUTTA</td>\n",
       "      <td>Gold</td>\n",
       "      <td>500000</td>\n",
       "      <td>C15</td>\n",
       "      <td>Govt</td>\n",
       "      <td>596</td>\n",
       "      <td>2005-09-03</td>\n",
       "      <td>AIR TICKET</td>\n",
       "      <td>493796.836124</td>\n",
       "      <td>9</td>\n",
       "    </tr>\n",
       "    <tr>\n",
       "      <th>292</th>\n",
       "      <td>16</td>\n",
       "      <td>A16</td>\n",
       "      <td>24</td>\n",
       "      <td>COCHIN</td>\n",
       "      <td>Gold</td>\n",
       "      <td>500000</td>\n",
       "      <td>C16</td>\n",
       "      <td>Normal Salary</td>\n",
       "      <td>340</td>\n",
       "      <td>2006-02-04</td>\n",
       "      <td>CAR</td>\n",
       "      <td>475406.729330</td>\n",
       "      <td>2</td>\n",
       "    </tr>\n",
       "    <tr>\n",
       "      <th>707</th>\n",
       "      <td>33</td>\n",
       "      <td>A33</td>\n",
       "      <td>67</td>\n",
       "      <td>BOMBAY</td>\n",
       "      <td>Platimum</td>\n",
       "      <td>300000</td>\n",
       "      <td>C15</td>\n",
       "      <td>Salaried_MNC</td>\n",
       "      <td>885</td>\n",
       "      <td>2006-02-04</td>\n",
       "      <td>JEWELLERY</td>\n",
       "      <td>311798.834109</td>\n",
       "      <td>2</td>\n",
       "    </tr>\n",
       "    <tr>\n",
       "      <th>1218</th>\n",
       "      <td>52</td>\n",
       "      <td>A52</td>\n",
       "      <td>65</td>\n",
       "      <td>BANGALORE</td>\n",
       "      <td>Platimum</td>\n",
       "      <td>450000</td>\n",
       "      <td>C14</td>\n",
       "      <td>Normal Salary</td>\n",
       "      <td>1237</td>\n",
       "      <td>2005-05-24</td>\n",
       "      <td>AIR TICKET</td>\n",
       "      <td>451676.187516</td>\n",
       "      <td>5</td>\n",
       "    </tr>\n",
       "    <tr>\n",
       "      <th>1227</th>\n",
       "      <td>53</td>\n",
       "      <td>A53</td>\n",
       "      <td>46</td>\n",
       "      <td>DELHI</td>\n",
       "      <td>Platimum</td>\n",
       "      <td>300009</td>\n",
       "      <td>C15</td>\n",
       "      <td>Normal Salary</td>\n",
       "      <td>53</td>\n",
       "      <td>2005-11-03</td>\n",
       "      <td>BIKE</td>\n",
       "      <td>292925.246751</td>\n",
       "      <td>11</td>\n",
       "    </tr>\n",
       "    <tr>\n",
       "      <th>1442</th>\n",
       "      <td>62</td>\n",
       "      <td>A62</td>\n",
       "      <td>23</td>\n",
       "      <td>BOMBAY</td>\n",
       "      <td>Gold</td>\n",
       "      <td>500000</td>\n",
       "      <td>C24</td>\n",
       "      <td>Normal Salary</td>\n",
       "      <td>1249</td>\n",
       "      <td>2005-08-03</td>\n",
       "      <td>AIR TICKET</td>\n",
       "      <td>453335.612636</td>\n",
       "      <td>8</td>\n",
       "    </tr>\n",
       "    <tr>\n",
       "      <th>1446</th>\n",
       "      <td>62</td>\n",
       "      <td>A62</td>\n",
       "      <td>23</td>\n",
       "      <td>BOMBAY</td>\n",
       "      <td>Gold</td>\n",
       "      <td>500000</td>\n",
       "      <td>C24</td>\n",
       "      <td>Normal Salary</td>\n",
       "      <td>1365</td>\n",
       "      <td>2006-03-03</td>\n",
       "      <td>CAR</td>\n",
       "      <td>452885.302871</td>\n",
       "      <td>3</td>\n",
       "    </tr>\n",
       "    <tr>\n",
       "      <th>1448</th>\n",
       "      <td>62</td>\n",
       "      <td>A62</td>\n",
       "      <td>23</td>\n",
       "      <td>BOMBAY</td>\n",
       "      <td>Gold</td>\n",
       "      <td>500000</td>\n",
       "      <td>C24</td>\n",
       "      <td>Normal Salary</td>\n",
       "      <td>1423</td>\n",
       "      <td>2005-02-23</td>\n",
       "      <td>AIR TICKET</td>\n",
       "      <td>463952.040669</td>\n",
       "      <td>2</td>\n",
       "    </tr>\n",
       "    <tr>\n",
       "      <th>1465</th>\n",
       "      <td>69</td>\n",
       "      <td>A69</td>\n",
       "      <td>30</td>\n",
       "      <td>CALCUTTA</td>\n",
       "      <td>Platimum</td>\n",
       "      <td>180000</td>\n",
       "      <td>C31</td>\n",
       "      <td>Self Employed</td>\n",
       "      <td>71</td>\n",
       "      <td>2005-01-17</td>\n",
       "      <td>AIR TICKET</td>\n",
       "      <td>167393.969987</td>\n",
       "      <td>1</td>\n",
       "    </tr>\n",
       "    <tr>\n",
       "      <th>1495</th>\n",
       "      <td>96</td>\n",
       "      <td>A96</td>\n",
       "      <td>54</td>\n",
       "      <td>CHENNAI</td>\n",
       "      <td>Silver</td>\n",
       "      <td>100000</td>\n",
       "      <td>C19</td>\n",
       "      <td>Salaried_Pvt</td>\n",
       "      <td>98</td>\n",
       "      <td>2004-01-25</td>\n",
       "      <td>BIKE</td>\n",
       "      <td>94369.178802</td>\n",
       "      <td>1</td>\n",
       "    </tr>\n",
       "    <tr>\n",
       "      <th>1498</th>\n",
       "      <td>99</td>\n",
       "      <td>A99</td>\n",
       "      <td>59</td>\n",
       "      <td>CALCUTTA</td>\n",
       "      <td>Platimum</td>\n",
       "      <td>120000</td>\n",
       "      <td>C22</td>\n",
       "      <td>Self Employed</td>\n",
       "      <td>101</td>\n",
       "      <td>2004-01-15</td>\n",
       "      <td>AIR TICKET</td>\n",
       "      <td>108137.195169</td>\n",
       "      <td>1</td>\n",
       "    </tr>\n",
       "  </tbody>\n",
       "</table>\n",
       "</div>"
      ],
      "text/plain": [
       "      No Customer  Age       City   Product   Limit Company        Segment  \\\n",
       "218   13      A13   38  BANGALORE      Gold  500000     C13   Salaried_MNC   \n",
       "286   15      A15   41   CALCUTTA      Gold  500000     C15           Govt   \n",
       "292   16      A16   24     COCHIN      Gold  500000     C16  Normal Salary   \n",
       "707   33      A33   67     BOMBAY  Platimum  300000     C15   Salaried_MNC   \n",
       "1218  52      A52   65  BANGALORE  Platimum  450000     C14  Normal Salary   \n",
       "1227  53      A53   46      DELHI  Platimum  300009     C15  Normal Salary   \n",
       "1442  62      A62   23     BOMBAY      Gold  500000     C24  Normal Salary   \n",
       "1446  62      A62   23     BOMBAY      Gold  500000     C24  Normal Salary   \n",
       "1448  62      A62   23     BOMBAY      Gold  500000     C24  Normal Salary   \n",
       "1465  69      A69   30   CALCUTTA  Platimum  180000     C31  Self Employed   \n",
       "1495  96      A96   54    CHENNAI    Silver  100000     C19   Salaried_Pvt   \n",
       "1498  99      A99   59   CALCUTTA  Platimum  120000     C22  Self Employed   \n",
       "\n",
       "      Sl No:      Month        Type         Amount  SpendMonth  \n",
       "218      283 2006-11-03        BIKE  462425.553331          11  \n",
       "286      596 2005-09-03  AIR TICKET  493796.836124           9  \n",
       "292      340 2006-02-04         CAR  475406.729330           2  \n",
       "707      885 2006-02-04   JEWELLERY  311798.834109           2  \n",
       "1218    1237 2005-05-24  AIR TICKET  451676.187516           5  \n",
       "1227      53 2005-11-03        BIKE  292925.246751          11  \n",
       "1442    1249 2005-08-03  AIR TICKET  453335.612636           8  \n",
       "1446    1365 2006-03-03         CAR  452885.302871           3  \n",
       "1448    1423 2005-02-23  AIR TICKET  463952.040669           2  \n",
       "1465      71 2005-01-17  AIR TICKET  167393.969987           1  \n",
       "1495      98 2004-01-25        BIKE   94369.178802           1  \n",
       "1498     101 2004-01-15  AIR TICKET  108137.195169           1  "
      ]
     },
     "execution_count": 43,
     "metadata": {},
     "output_type": "execute_result"
    }
   ],
   "source": [
    "#Which customers are reaching 90% or more of their spending limit?\n",
    "CustSpendMerged_df=pd.merge(cc_custdetail_df,cc_custspend_df,left_on=\"Customer\",right_on=\"Customer\",how=\"inner\")\n",
    "CustSpendMerged_df.query(\"Amount/Limit<.90\")"
   ]
  },
  {
   "cell_type": "code",
   "execution_count": 236,
   "id": "969d207c",
   "metadata": {},
   "outputs": [
    {
     "data": {
      "text/html": [
       "<div>\n",
       "<style scoped>\n",
       "    .dataframe tbody tr th:only-of-type {\n",
       "        vertical-align: middle;\n",
       "    }\n",
       "\n",
       "    .dataframe tbody tr th {\n",
       "        vertical-align: top;\n",
       "    }\n",
       "\n",
       "    .dataframe thead th {\n",
       "        text-align: right;\n",
       "    }\n",
       "</style>\n",
       "<table border=\"1\" class=\"dataframe\">\n",
       "  <thead>\n",
       "    <tr style=\"text-align: right;\">\n",
       "      <th></th>\n",
       "      <th></th>\n",
       "      <th>City</th>\n",
       "      <th>Amount</th>\n",
       "    </tr>\n",
       "    <tr>\n",
       "      <th>SpendMonth</th>\n",
       "      <th>City</th>\n",
       "      <th></th>\n",
       "      <th></th>\n",
       "    </tr>\n",
       "  </thead>\n",
       "  <tbody>\n",
       "    <tr>\n",
       "      <th>1</th>\n",
       "      <th>BANGALORE</th>\n",
       "      <td>67</td>\n",
       "      <td>3.126275e+06</td>\n",
       "    </tr>\n",
       "    <tr>\n",
       "      <th>2</th>\n",
       "      <th>BANGALORE</th>\n",
       "      <td>48</td>\n",
       "      <td>3.971498e+06</td>\n",
       "    </tr>\n",
       "    <tr>\n",
       "      <th>4</th>\n",
       "      <th>BANGALORE</th>\n",
       "      <td>25</td>\n",
       "      <td>1.337310e+06</td>\n",
       "    </tr>\n",
       "    <tr>\n",
       "      <th>11</th>\n",
       "      <th>BANGALORE</th>\n",
       "      <td>17</td>\n",
       "      <td>1.141031e+06</td>\n",
       "    </tr>\n",
       "    <tr>\n",
       "      <th>8</th>\n",
       "      <th>BANGALORE</th>\n",
       "      <td>7</td>\n",
       "      <td>2.622387e+04</td>\n",
       "    </tr>\n",
       "  </tbody>\n",
       "</table>\n",
       "</div>"
      ],
      "text/plain": [
       "                      City        Amount\n",
       "SpendMonth City                         \n",
       "1          BANGALORE    67  3.126275e+06\n",
       "2          BANGALORE    48  3.971498e+06\n",
       "4          BANGALORE    25  1.337310e+06\n",
       "11         BANGALORE    17  1.141031e+06\n",
       "8          BANGALORE     7  2.622387e+04"
      ]
     },
     "execution_count": 236,
     "metadata": {},
     "output_type": "execute_result"
    }
   ],
   "source": [
    "#Which city has the maximum number of spenders, each month? \n",
    "#Is there a need to run campaigns in specific cities?\n",
    "\n",
    "SpendByMonthCity_df=CustSpendMerged_df.groupby([\"SpendMonth\",\"City\"],sort=False).agg({\"City\":\"count\",\"Amount\":\"sum\"})\n",
    "SpendByMonthCity_df.sort_values(by=['Amount','SpendMonth'], ascending=True) \n",
    "SpendByMonthCity_df.head()\n",
    "\n",
    "\n"
   ]
  },
  {
   "cell_type": "code",
   "execution_count": 201,
   "id": "4f758b4f",
   "metadata": {},
   "outputs": [
    {
     "name": "stdout",
     "output_type": "stream",
     "text": [
      "City           BANGALORE        BOMBAY      CALCUTTA       CHENNAI  \\\n",
      "SpendMonth                                                           \n",
      "1           3.126275e+06  2.328806e+06  3.244927e+06  2.597978e+06   \n",
      "2           3.971498e+06  3.008375e+06  1.658106e+06  1.969179e+06   \n",
      "3           2.027004e+06  2.897458e+06  2.176908e+06  1.166275e+06   \n",
      "4           1.337310e+06  8.501956e+05  1.551687e+06  1.080791e+06   \n",
      "5           3.130805e+06  7.788406e+05  1.967827e+06  1.924341e+06   \n",
      "6           1.232163e+05  1.556615e+05  5.664154e+05  5.932297e+04   \n",
      "7           1.127001e+05  2.146374e+05  2.986810e+05  4.752278e+05   \n",
      "8           2.622387e+04  5.038895e+05  2.426529e+05  4.894894e+05   \n",
      "9           7.359495e+03  6.203404e+05  1.487616e+06  7.711241e+05   \n",
      "10          8.893524e+05  6.776218e+05  4.025541e+05  2.502109e+05   \n",
      "11          1.141031e+06  1.316265e+06  5.726935e+05  1.428435e+05   \n",
      "12          5.151486e+04  4.016651e+04  1.540063e+05  4.791158e+05   \n",
      "\n",
      "City              COCHIN         DELHI         PATNA    TRIVANDRUM  \n",
      "SpendMonth                                                          \n",
      "1           4.617420e+06  7.031310e+05  1.815232e+06  8.140890e+05  \n",
      "2           4.149995e+06  3.659365e+05  7.519309e+05  6.708494e+05  \n",
      "3           2.020515e+06  1.011287e+06  1.029935e+06  8.810849e+05  \n",
      "4           2.347582e+06  1.161683e+06  1.488411e+05  9.737019e+04  \n",
      "5           2.844140e+06  1.072653e+06  8.957864e+05  1.438595e+06  \n",
      "6           1.019606e+06  4.464275e+04  5.560392e+05  5.657520e+04  \n",
      "7           9.253244e+05  1.910708e+03  4.086993e+05  4.963317e+05  \n",
      "8           1.255669e+05  1.868107e+04  3.081501e+03  4.140033e+03  \n",
      "9           1.371595e+06  6.165179e+05  5.416798e+02  3.630767e+05  \n",
      "10          3.773642e+04  9.785781e+02  9.711812e+04  3.189372e+03  \n",
      "11          1.144537e+06  7.287655e+05  2.128057e+04  3.914154e+05  \n",
      "12          5.151097e+05  4.300055e+05  4.776783e+02  6.834343e+04  \n"
     ]
    }
   ],
   "source": [
    "#Is there a need to run campaigns in specific cities?\n",
    "SpendByMonthCity_df.min()\n",
    "SpendByMonthCity_df2=pd.pivot_table(data=CustSpendMerged_df,index=\"SpendMonth\",columns=\"City\",values=\"Amount\",aggfunc='sum', sort=True)\n",
    "\n",
    "print(SpendByMonthCity_df2)\n",
    "# it seems Patna and Delhi can use some campaigns because spending is low there"
   ]
  },
  {
   "cell_type": "code",
   "execution_count": 370,
   "id": "de06464f",
   "metadata": {},
   "outputs": [
    {
     "data": {
      "text/plain": [
       "Age\n",
       "63    6.087550e+06\n",
       "dtype: float64"
      ]
     },
     "execution_count": 370,
     "metadata": {},
     "output_type": "execute_result"
    }
   ],
   "source": [
    "#Which age group spends the most? \n",
    "CustSpendMerged_df.groupby([\"Age\"]).apply(lambda x:x[\"Amount\"].sum()).sort_values(ascending=False).head(1)\n"
   ]
  },
  {
   "cell_type": "code",
   "execution_count": 355,
   "id": "46a4c1e5",
   "metadata": {},
   "outputs": [],
   "source": [
    "import matplotlib.pyplot as plt\n",
    "from matplotlib.ticker import FuncFormatter\n",
    "import scipy\n",
    "import seaborn as sns\n",
    "# A jupyter notebook specific command that let’s you see the plots in the notbook itself.\n",
    "%matplotlib inline \n",
    "import warnings\n",
    "warnings.filterwarnings('ignore')"
   ]
  },
  {
   "cell_type": "code",
   "execution_count": 373,
   "id": "51692ef1",
   "metadata": {},
   "outputs": [
    {
     "data": {
      "text/plain": [
       "OBJECTID         2566\n",
       "Borough          2566\n",
       "Type             2566\n",
       "Provider         2566\n",
       "Latitude         2566\n",
       "Longitude        2566\n",
       "Location_T       2566\n",
       "City             2566\n",
       "BoroCode         2566\n",
       "NTACode          2566\n",
       "ProviderCount    2566\n",
       "dtype: int64"
      ]
     },
     "execution_count": 373,
     "metadata": {},
     "output_type": "execute_result"
    }
   ],
   "source": [
    "#Load Wifi Data.xlsx file (\"wifi_data worksheet) into 'wifi_df' dataframe\n",
    "wifi_datafile=\"Wifi Data.xlsx\"\n",
    "wifi_df = pd.read_excel(wifi_datafile,sheet_name=0,engine='openpyxl')\n",
    "wifi_df[\"ProviderCount\"]=1\n",
    "#retrun wifi_df dataframe field counts with values\n",
    "wifi_df.count()\n"
   ]
  },
  {
   "cell_type": "code",
   "execution_count": 241,
   "id": "22423a30",
   "metadata": {},
   "outputs": [
    {
     "name": "stdout",
     "output_type": "stream",
     "text": [
      "<class 'pandas.core.frame.DataFrame'>\n",
      "Int64Index: 464 entries, 0 to 2533\n",
      "Data columns (total 11 columns):\n",
      " #   Column         Non-Null Count  Dtype  \n",
      "---  ------         --------------  -----  \n",
      " 0   OBJECTID       464 non-null    int64  \n",
      " 1   Borough        464 non-null    object \n",
      " 2   Type           464 non-null    object \n",
      " 3   Provider       464 non-null    object \n",
      " 4   Latitude       464 non-null    float64\n",
      " 5   Longitude      464 non-null    float64\n",
      " 6   Location_T     464 non-null    object \n",
      " 7   City           464 non-null    object \n",
      " 8   BoroCode       464 non-null    int64  \n",
      " 9   NTACode        464 non-null    object \n",
      " 10  ProviderCount  464 non-null    int64  \n",
      "dtypes: float64(2), int64(3), object(6)\n",
      "memory usage: 43.5+ KB\n"
     ]
    }
   ],
   "source": [
    "#check frequency distribution of the features, drop irrelevant and redundant features if any and state your inferences\n",
    "wifi_df2=wifi_df.drop_duplicates(subset=[\"Borough\",\"Type\",\"Provider\",\"Location_T\",\"City\",\"BoroCode\",\"NTACode\"],keep=\"first\")\n",
    "wifi_df2.info()"
   ]
  },
  {
   "cell_type": "code",
   "execution_count": 339,
   "id": "1a1526e5",
   "metadata": {},
   "outputs": [
    {
     "name": "stdout",
     "output_type": "stream",
     "text": [
      "<class 'pandas.core.frame.DataFrame'>\n",
      "Index: 15 entries, ALTICEUSA to Transit Wireless\n",
      "Data columns (total 10 columns):\n",
      " #   Column         Non-Null Count  Dtype\n",
      "---  ------         --------------  -----\n",
      " 0   OBJECTID       15 non-null     int64\n",
      " 1   Borough        15 non-null     int64\n",
      " 2   Type           15 non-null     int64\n",
      " 3   Latitude       15 non-null     int64\n",
      " 4   Longitude      15 non-null     int64\n",
      " 5   Location_T     15 non-null     int64\n",
      " 6   City           15 non-null     int64\n",
      " 7   BoroCode       15 non-null     int64\n",
      " 8   NTACode        15 non-null     int64\n",
      " 9   ProviderCount  15 non-null     int64\n",
      "dtypes: int64(10)\n",
      "memory usage: 1.3+ KB\n"
     ]
    },
    {
     "data": {
      "text/html": [
       "<div>\n",
       "<style scoped>\n",
       "    .dataframe tbody tr th:only-of-type {\n",
       "        vertical-align: middle;\n",
       "    }\n",
       "\n",
       "    .dataframe tbody tr th {\n",
       "        vertical-align: top;\n",
       "    }\n",
       "\n",
       "    .dataframe thead th {\n",
       "        text-align: right;\n",
       "    }\n",
       "</style>\n",
       "<table border=\"1\" class=\"dataframe\">\n",
       "  <thead>\n",
       "    <tr style=\"text-align: right;\">\n",
       "      <th></th>\n",
       "      <th>OBJECTID</th>\n",
       "      <th>Borough</th>\n",
       "      <th>Type</th>\n",
       "      <th>Latitude</th>\n",
       "      <th>Longitude</th>\n",
       "      <th>Location_T</th>\n",
       "      <th>City</th>\n",
       "      <th>BoroCode</th>\n",
       "      <th>NTACode</th>\n",
       "      <th>ProviderCount</th>\n",
       "    </tr>\n",
       "    <tr>\n",
       "      <th>Provider</th>\n",
       "      <th></th>\n",
       "      <th></th>\n",
       "      <th></th>\n",
       "      <th></th>\n",
       "      <th></th>\n",
       "      <th></th>\n",
       "      <th></th>\n",
       "      <th></th>\n",
       "      <th></th>\n",
       "      <th></th>\n",
       "    </tr>\n",
       "  </thead>\n",
       "  <tbody>\n",
       "    <tr>\n",
       "      <th>ALTICEUSA</th>\n",
       "      <td>237</td>\n",
       "      <td>237</td>\n",
       "      <td>237</td>\n",
       "      <td>237</td>\n",
       "      <td>237</td>\n",
       "      <td>237</td>\n",
       "      <td>237</td>\n",
       "      <td>237</td>\n",
       "      <td>237</td>\n",
       "      <td>237</td>\n",
       "    </tr>\n",
       "    <tr>\n",
       "      <th>AT&amp;T</th>\n",
       "      <td>27</td>\n",
       "      <td>27</td>\n",
       "      <td>27</td>\n",
       "      <td>27</td>\n",
       "      <td>27</td>\n",
       "      <td>27</td>\n",
       "      <td>27</td>\n",
       "      <td>27</td>\n",
       "      <td>27</td>\n",
       "      <td>27</td>\n",
       "    </tr>\n",
       "    <tr>\n",
       "      <th>BPL</th>\n",
       "      <td>59</td>\n",
       "      <td>59</td>\n",
       "      <td>59</td>\n",
       "      <td>59</td>\n",
       "      <td>59</td>\n",
       "      <td>59</td>\n",
       "      <td>59</td>\n",
       "      <td>59</td>\n",
       "      <td>59</td>\n",
       "      <td>59</td>\n",
       "    </tr>\n",
       "    <tr>\n",
       "      <th>Chelsea</th>\n",
       "      <td>30</td>\n",
       "      <td>30</td>\n",
       "      <td>30</td>\n",
       "      <td>30</td>\n",
       "      <td>30</td>\n",
       "      <td>30</td>\n",
       "      <td>30</td>\n",
       "      <td>30</td>\n",
       "      <td>30</td>\n",
       "      <td>30</td>\n",
       "    </tr>\n",
       "    <tr>\n",
       "      <th>City Tech</th>\n",
       "      <td>11</td>\n",
       "      <td>11</td>\n",
       "      <td>11</td>\n",
       "      <td>11</td>\n",
       "      <td>11</td>\n",
       "      <td>11</td>\n",
       "      <td>11</td>\n",
       "      <td>11</td>\n",
       "      <td>11</td>\n",
       "      <td>11</td>\n",
       "    </tr>\n",
       "  </tbody>\n",
       "</table>\n",
       "</div>"
      ],
      "text/plain": [
       "           OBJECTID  Borough  Type  Latitude  Longitude  Location_T  City  \\\n",
       "Provider                                                                    \n",
       "ALTICEUSA       237      237   237       237        237         237   237   \n",
       "AT&T             27       27    27        27         27          27    27   \n",
       "BPL              59       59    59        59         59          59    59   \n",
       "Chelsea          30       30    30        30         30          30    30   \n",
       "City Tech        11       11    11        11         11          11    11   \n",
       "\n",
       "           BoroCode  NTACode  ProviderCount  \n",
       "Provider                                     \n",
       "ALTICEUSA       237      237            237  \n",
       "AT&T             27       27             27  \n",
       "BPL              59       59             59  \n",
       "Chelsea          30       30             30  \n",
       "City Tech        11       11             11  "
      ]
     },
     "execution_count": 339,
     "metadata": {},
     "output_type": "execute_result"
    }
   ],
   "source": [
    "ProviderCount_df = wifi_df.groupby([\"Provider\"]).count()\n",
    "ProviderCount_df.info()\n",
    "ProviderCount_df.head()\n"
   ]
  },
  {
   "cell_type": "code",
   "execution_count": 312,
   "id": "079ee159",
   "metadata": {},
   "outputs": [
    {
     "name": "stdout",
     "output_type": "stream",
     "text": [
      "LinkNYC - Citybridge has highest installations\n"
     ]
    },
    {
     "data": {
      "image/png": "[encoded data removed]",
      "text/plain": [
       "<Figure size 1152x720 with 1 Axes>"
      ]
     },
     "metadata": {
      "needs_background": "light"
     },
     "output_type": "display_data"
    }
   ],
   "source": [
    "#Plot the providers vs number of all wi-fi hotspots they have in operation? Who has the highest installations?\n",
    "wifi_df['Provider'].value_counts().plot(kind='barh', figsize=(16, 10), title='Providers')\n",
    "print(\"LinkNYC - Citybridge has highest installations\")"
   ]
  },
  {
   "cell_type": "code",
   "execution_count": 364,
   "id": "2a36ef23",
   "metadata": {},
   "outputs": [
    {
     "data": {
      "text/plain": [
       "<AxesSubplot:title={'center':'providers vs number of free wifi hotspots'}>"
      ]
     },
     "execution_count": 364,
     "metadata": {},
     "output_type": "execute_result"
    },
    {
     "data": {
      "image/png": "[encoded data removed]",
      "text/plain": [
       "<Figure size 1152x720 with 1 Axes>"
      ]
     },
     "metadata": {
      "needs_background": "light"
     },
     "output_type": "display_data"
    }
   ],
   "source": [
    "#Plot providers vs number of free wifi hotspots\n",
    "wifi_FreeProviders_df=wifi_df.loc[wifi_df['Type'] == \"Free\"]\n",
    "wifi_FreeProviders_df['Provider'].value_counts().plot(kind='barh', figsize=(16, 10), title='providers vs number of free wifi hotspots')"
   ]
  },
  {
   "cell_type": "code",
   "execution_count": 340,
   "id": "7425a058",
   "metadata": {},
   "outputs": [
    {
     "name": "stdout",
     "output_type": "stream",
     "text": [
      "Type                     Free  Limited Free  Partner Site\n",
      "Provider                                                 \n",
      "ALTICEUSA                   0           237             0\n",
      "AT&T                       26             1             0\n",
      "BPL                        59             0             0\n",
      "Chelsea                    30             0             0\n",
      "City Tech                  11             0             0\n",
      "Downtown Brooklyn         100             0             0\n",
      "Harlem                    128             0             0\n",
      "LinkNYC - Citybridge     1134             0             0\n",
      "Manhattan Down Alliance    36             0             0\n",
      "NYCHA                      28             0             0\n",
      "NYPL                       90             0             0\n",
      "Partner                     0             0             2\n",
      "QPL                        65             0             0\n",
      "SPECTRUM                    0           343             0\n",
      "Transit Wireless          276             0             0\n",
      "Partner has no free wifi and ALTICEUSA and SPECTRUM has Limited Free wifi.\n"
     ]
    }
   ],
   "source": [
    "#Are there any provider(s) who do not provide free wifi?\n",
    "wifi_ProviderType_df=pd.pivot_table(data=wifi_df,index=\"Provider\",columns=\"Type\",values=\"OBJECTID\",aggfunc='count', sort=True,fill_value=0)\n",
    "print(wifi_ProviderType_df)\n",
    "\n",
    "print(\"Partner has no free wifi and ALTICEUSA and SPECTRUM has Limited Free wifi.\")"
   ]
  },
  {
   "cell_type": "code",
   "execution_count": 368,
   "id": "7b430433",
   "metadata": {},
   "outputs": [
    {
     "name": "stdout",
     "output_type": "stream",
     "text": [
      "Outdoor Kiosk are most commong and Outdoor TWC Aerial are lease common.\n"
     ]
    },
    {
     "data": {
      "image/png": "[encoded data removed]",
      "text/plain": [
       "<Figure size 1152x720 with 1 Axes>"
      ]
     },
     "metadata": {
      "needs_background": "light"
     },
     "output_type": "display_data"
    }
   ],
   "source": [
    "# Which Location type (Location_T) are most common and least common?\n",
    "wifi_df['Location_T'].value_counts().plot(kind='bar', figsize=(16, 10), title='Location type counts')\n",
    "print(\"Outdoor Kiosk are most commong and Outdoor TWC Aerial are lease common.\")"
   ]
  },
  {
   "cell_type": "code",
   "execution_count": 367,
   "id": "5b64b583",
   "metadata": {},
   "outputs": [
    {
     "data": {
      "text/plain": [
       "Outdoor Kiosk         1134\n",
       "Outdoor                696\n",
       "Subway Station         276\n",
       "Library                214\n",
       "Indoor                 125\n",
       "Outdoor TWC Aerial     121\n",
       "Name: Location_T, dtype: int64"
      ]
     },
     "execution_count": 367,
     "metadata": {},
     "output_type": "execute_result"
    }
   ],
   "source": [
    "#How many free “indoor” and “outdoor” hotspots are there?\n",
    "\n",
    "wifi_df['Location_T'].value_counts()"
   ]
  },
  {
   "cell_type": "code",
   "execution_count": 384,
   "id": "95e8d80e",
   "metadata": {},
   "outputs": [
    {
     "ename": "AttributeError",
     "evalue": "'DataFrame' object has no attribute 'get_group'",
     "output_type": "error",
     "traceback": [
      "\u001b[1;31m---------------------------------------------------------------------------\u001b[0m",
      "\u001b[1;31mAttributeError\u001b[0m                            Traceback (most recent call last)",
      "Input \u001b[1;32mIn [384]\u001b[0m, in \u001b[0;36m<cell line: 4>\u001b[1;34m()\u001b[0m\n\u001b[0;32m      1\u001b[0m \u001b[38;5;66;03m#Which companies have the highest number of Outdoor Free installations.\u001b[39;00m\n\u001b[0;32m      2\u001b[0m \u001b[38;5;66;03m#wifi_ODFree_df=wifi_df[\"Location_T\"]==\"Outdoor\" & wifi_df[\"Type\"]== \"Free\"\u001b[39;00m\n\u001b[0;32m      3\u001b[0m grp\u001b[38;5;241m=\u001b[39mwifi_df\u001b[38;5;241m.\u001b[39mgroupby([\u001b[38;5;124m\"\u001b[39m\u001b[38;5;124mProvider\u001b[39m\u001b[38;5;124m\"\u001b[39m,\u001b[38;5;124m\"\u001b[39m\u001b[38;5;124mLocation_T\u001b[39m\u001b[38;5;124m\"\u001b[39m],sort\u001b[38;5;241m=\u001b[39m\u001b[38;5;28;01mFalse\u001b[39;00m)\u001b[38;5;241m.\u001b[39magg({\u001b[38;5;124m\"\u001b[39m\u001b[38;5;124mCity\u001b[39m\u001b[38;5;124m\"\u001b[39m:\u001b[38;5;124m\"\u001b[39m\u001b[38;5;124mcount\u001b[39m\u001b[38;5;124m\"\u001b[39m})\n\u001b[1;32m----> 4\u001b[0m wifi_ODFree_df\u001b[38;5;241m=\u001b[39m\u001b[43mgrp\u001b[49m\u001b[38;5;241;43m.\u001b[39;49m\u001b[43mget_group\u001b[49m(\u001b[38;5;124m'\u001b[39m\u001b[38;5;124mOutdoor\u001b[39m\u001b[38;5;124m'\u001b[39m)\n\u001b[0;32m      5\u001b[0m wifi_ODFree_df\n",
      "File \u001b[1;32mC:\\ProgramData\\Anaconda3\\lib\\site-packages\\pandas\\core\\generic.py:5575\u001b[0m, in \u001b[0;36mNDFrame.__getattr__\u001b[1;34m(self, name)\u001b[0m\n\u001b[0;32m   5568\u001b[0m \u001b[38;5;28;01mif\u001b[39;00m (\n\u001b[0;32m   5569\u001b[0m     name \u001b[38;5;129;01mnot\u001b[39;00m \u001b[38;5;129;01min\u001b[39;00m \u001b[38;5;28mself\u001b[39m\u001b[38;5;241m.\u001b[39m_internal_names_set\n\u001b[0;32m   5570\u001b[0m     \u001b[38;5;129;01mand\u001b[39;00m name \u001b[38;5;129;01mnot\u001b[39;00m \u001b[38;5;129;01min\u001b[39;00m \u001b[38;5;28mself\u001b[39m\u001b[38;5;241m.\u001b[39m_metadata\n\u001b[0;32m   5571\u001b[0m     \u001b[38;5;129;01mand\u001b[39;00m name \u001b[38;5;129;01mnot\u001b[39;00m \u001b[38;5;129;01min\u001b[39;00m \u001b[38;5;28mself\u001b[39m\u001b[38;5;241m.\u001b[39m_accessors\n\u001b[0;32m   5572\u001b[0m     \u001b[38;5;129;01mand\u001b[39;00m \u001b[38;5;28mself\u001b[39m\u001b[38;5;241m.\u001b[39m_info_axis\u001b[38;5;241m.\u001b[39m_can_hold_identifiers_and_holds_name(name)\n\u001b[0;32m   5573\u001b[0m ):\n\u001b[0;32m   5574\u001b[0m     \u001b[38;5;28;01mreturn\u001b[39;00m \u001b[38;5;28mself\u001b[39m[name]\n\u001b[1;32m-> 5575\u001b[0m \u001b[38;5;28;01mreturn\u001b[39;00m \u001b[38;5;28;43mobject\u001b[39;49m\u001b[38;5;241;43m.\u001b[39;49m\u001b[38;5;21;43m__getattribute__\u001b[39;49m\u001b[43m(\u001b[49m\u001b[38;5;28;43mself\u001b[39;49m\u001b[43m,\u001b[49m\u001b[43m \u001b[49m\u001b[43mname\u001b[49m\u001b[43m)\u001b[49m\n",
      "\u001b[1;31mAttributeError\u001b[0m: 'DataFrame' object has no attribute 'get_group'"
     ]
    }
   ],
   "source": [
    "#Which companies have the highest number of Outdoor Free installations.\n",
    "#wifi_ODFree_df=wifi_df[\"Location_T\"]==\"Outdoor\" & wifi_df[\"Type\"]== \"Free\"\n",
    "grp=wifi_df.groupby([\"Provider\",\"Location_T\"],sort=False).agg({\"City\":\"count\"})\n",
    "wifi_ODFree_df=grp.get_group('Outdoor')\n",
    "wifi_ODFree_df\n",
    "#wifi_df.groupby([\"Provider\",\"Location_T\"],sort=False).apply(lambda x: x[x['Location_T'] == 'Outdoor' ]['City'].count())\n",
    "#wifi_ODFree_df.head(100)"
   ]
  },
  {
   "cell_type": "code",
   "execution_count": null,
   "id": "7e5001ab",
   "metadata": {},
   "outputs": [],
   "source": []
  }
 ],
 "metadata": {
  "kernelspec": {
   "display_name": "Python 3 (ipykernel)",
   "language": "python",
   "name": "python3"
  },
  "language_info": {
   "codemirror_mode": {
    "name": "ipython",
    "version": 3
   },
   "file_extension": ".py",
   "mimetype": "text/x-python",
   "name": "python",
   "nbconvert_exporter": "python",
   "pygments_lexer": "ipython3",
   "version": "3.9.12"
  }
 },
 "nbformat": 4,
 "nbformat_minor": 5
}
